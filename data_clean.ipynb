{
 "cells": [
  {
   "cell_type": "code",
   "execution_count": 2,
   "metadata": {},
   "outputs": [],
   "source": [
    "import os\n",
    "import glob\n",
    "import pandas as pd\n",
    "import re\n",
    "import jieba    \n",
    "import json"
   ]
  },
  {
   "cell_type": "code",
   "execution_count": 3,
   "metadata": {},
   "outputs": [],
   "source": [
    "# JSON 파일을 읽고 필요한 데이터를 추출하는 함수\n",
    "def extract_data_from_json(file_path):\n",
    "    with open(file_path, 'r', encoding='utf-8') as f:\n",
    "        data = json.load(f)\n",
    "    \n",
    "    standard_forms = []\n",
    "    dialect_forms = []\n",
    "    \n",
    "    for utterance in data['utterance']:\n",
    "        standard_forms.append(utterance['standard_form'])\n",
    "        dialect_forms.append(utterance['dialect_form'])\n",
    "    \n",
    "    return standard_forms, dialect_forms"
   ]
  },
  {
   "cell_type": "code",
   "execution_count": 4,
   "metadata": {},
   "outputs": [],
   "source": [
    "# 현재 작업 디렉토리 설정\n",
    "path = os.getcwd()\n",
    "\n",
    "# Training 및 Validation 경로 설정\n",
    "train_path = os.path.join(path, 'Training', '*.json')\n",
    "valid_path = os.path.join(path, 'Validation', '*.json')\n",
    "\n",
    "# Training 및 Validation 파일 목록 가져오기\n",
    "train_files = glob.glob(train_path)\n",
    "valid_files = glob.glob(valid_path)\n",
    "\n",
    "# 데이터를 저장할 리스트 초기화\n",
    "x_train, y_train, x_valid, y_valid = [], [], [], []\n",
    "\n",
    "# Training 파일에서 데이터 추출\n",
    "for t in train_files:\n",
    "    std_forms, dial_forms = extract_data_from_json(t)\n",
    "    x_train.extend(std_forms)\n",
    "    y_train.extend(dial_forms)\n",
    "\n",
    "# Validation 파일에서 데이터 추출\n",
    "for v in valid_files:\n",
    "    std_forms, dial_forms = extract_data_from_json(v)\n",
    "    x_valid.extend(std_forms)\n",
    "    y_valid.extend(dial_forms)\n",
    "\n",
    "# 학습용 데이터를 pandas DataFrame으로 변환\n",
    "train_df = pd.DataFrame({'표준어': x_train, '제주어': y_train})\n",
    "\n",
    "# 검증용 데이터를 pandas DataFrame으로 변환\n",
    "valid_df = pd.DataFrame({'표준어': x_valid, '제주어': y_valid})"
   ]
  },
  {
   "cell_type": "code",
   "execution_count": 5,
   "metadata": {},
   "outputs": [
    {
     "name": "stdout",
     "output_type": "stream",
     "text": [
      "번역 데이터 : 학습용 2774257개, 검증용 333802개\n",
      "                                         표준어  \\\n",
      "145368         그렇게 하다가 수도 안 나오는 날은 아무튼 여기 사람   \n",
      "1694774  점심 지도 안 하지 않애? 나 그 때 점심 지도 안 들어갔는데?   \n",
      "2617302                                    음   \n",
      "1560870                와 에르메스 카드지갑 사십삼만 원 엥?   \n",
      "1142034                                   어휴   \n",
      "194226                                     다   \n",
      "1828401                      막 나이 많은 사람들만 가.   \n",
      "2698119                                 신가하네   \n",
      "2185337                                    응   \n",
      "961536      학교 -어디- 어디야? 막 이래 가지고 아 저 한라대학요.   \n",
      "\n",
      "                                         제주어  \n",
      "145368            경 허당 수도 안 나오는 날은 아무튼 요기 사람  \n",
      "1694774  점심 지도 안 하지 않애? 나 그 때 점심 지도 안 들어갔는데?  \n",
      "2617302                                    음  \n",
      "1560870                와 에르메스 카드지갑 사십삼만 원 엥?  \n",
      "1142034                                   어휴  \n",
      "194226                                     다  \n",
      "1828401                      막 나이 많은 사람들만 가.  \n",
      "2698119                                 신기한게  \n",
      "2185337                                    응  \n",
      "961536      학교 -어디- 어디야? 막 이래 가지고 아 저 한라대학요.  \n"
     ]
    }
   ],
   "source": [
    "\n",
    "# 데이터 정보 출력\n",
    "print('번역 데이터 : 학습용 {}개, 검증용 {}개'.format(len(train_df), len(valid_df)))\n",
    "print(train_df.sample(10))  # 학습용 데이터에서 임의의 5개 샘플 출력"
   ]
  },
  {
   "cell_type": "code",
   "execution_count": 6,
   "metadata": {},
   "outputs": [],
   "source": [
    "# 필요에 따라 DataFrame을 CSV 파일로 저장\n",
    "train_df.to_csv('train_data.csv', index=False, encoding='utf-8')\n",
    "valid_df.to_csv('valid_data.csv', index=False, encoding='utf-8')"
   ]
  },
  {
   "cell_type": "code",
   "execution_count": 7,
   "metadata": {},
   "outputs": [],
   "source": [
    "def preprocess_kr(w):\n",
    "    w = re.sub(r\"([?'!¿\\-·\\\"])\", r\" \\1 \", w)\n",
    "    w = re.sub(r'[ |ㄱ-ㅎ|ㅏ-ㅣ]+', r\" \", w)\n",
    "    w = re.sub(r\"\\,(?=[0-9])\", r\"\", w)\n",
    "    w = w[:-1].strip()\n",
    "    w = '<start> ' + w + ' <end>'\n",
    "    return w  "
   ]
  },
  {
   "cell_type": "code",
   "execution_count": 8,
   "metadata": {},
   "outputs": [],
   "source": [
    "# 표준어와 제주어 데이터를 전처리하는 함수\n",
    "def preprocess(path):\n",
    "    files = glob.glob(os.path.join(path, '*.json'))\n",
    "    std, jej = [], []  # 빈 리스트 초기화\n",
    "    \n",
    "    for f in files:\n",
    "        std_forms, dial_forms = extract_data_from_json(f)\n",
    "        std.extend(std_forms)\n",
    "        jej.extend(dial_forms)\n",
    "    \n",
    "    std_series = pd.Series(std)\n",
    "    jej_series = pd.Series(jej)\n",
    "    \n",
    "    df = pd.concat([std_series, jej_series], axis=1)\n",
    "    df.columns = ['표준어', '제주어']\n",
    "    \n",
    "    df['표준어'] = df['표준어'].apply(preprocess_kr)\n",
    "    df['제주어'] = df['제주어'].apply(preprocess_kr)\n",
    "    \n",
    "    return df"
   ]
  },
  {
   "cell_type": "code",
   "execution_count": 9,
   "metadata": {},
   "outputs": [
    {
     "name": "stdout",
     "output_type": "stream",
     "text": [
      "훈련 데이터셋 크기 : (2774257, 2)\n",
      "                                           표준어  \\\n",
      "1587307  <start> 애기 옷 진짜 애기 옷 하고 싶었는데 애들 <end>   \n",
      "2565260           <start> 맞아 맞아 맞아 완전 어려 <end>   \n",
      "1771793               <start> 동생이 싸한 느낌이 <end>   \n",
      "\n",
      "                                           제주어  \n",
      "1587307  <start> 애기 옷 진짜 애기 옷 하고 싶었는데 애들 <end>  \n",
      "2565260           <start> 맞아 맞아 맞아 완전 어려 <end>  \n",
      "1771793               <start> 동생이 싸한 느낌이 <end>  \n"
     ]
    }
   ],
   "source": [
    "# 현재 작업 디렉토리 설정 및 데이터 전처리\n",
    "path = os.getcwd() + '\\\\Training'\n",
    "train_df = preprocess(path)\n",
    "\n",
    "print('훈련 데이터셋 크기 : {}'.format(train_df.shape))\n",
    "print(train_df.sample(3))"
   ]
  },
  {
   "cell_type": "code",
   "execution_count": 10,
   "metadata": {},
   "outputs": [
    {
     "name": "stdout",
     "output_type": "stream",
     "text": [
      "<start> 난 진짜 벌초 할때 뱀나오잖아 뱀 <end>\n",
      "<start> 난 진짜 벌초 할때 뱀나오잖아 뱀 <end>\n",
      "\n",
      "<start> 어어 그니 <end>\n",
      "<start> 어어 그니 <end>\n",
      "\n",
      "<start> 아 잘 <end>\n",
      "<start> 아 잘 <end>\n",
      "\n",
      "<start> 예초기 뱀도 짤 <end>\n",
      "<start> 예초기 뱀도 짤 <end>\n",
      "\n",
      "<start> 어 그니까 완전 끔찍 <end>\n",
      "<start> 어 그니까 완전 끔찍 <end>\n",
      "\n",
      "<start> 그니 <end>\n",
      "<start> 그니 <end>\n",
      "\n",
      "<start> 예전에 그렇 <end>\n",
      "<start> 예전에 <end>\n",
      "\n",
      "<start> 해놨잖아 작은오 <end>\n",
      "<start> 해놨잖아 작은오 <end>\n",
      "\n",
      "<start>  <end>\n",
      "<start>  <end>\n",
      "\n",
      "<start> 아 예초하다가(이)/(#이) 뱀 나온거야 뱀이 하나 도 아니 <end>\n",
      "<start> 아 예초하다가(이)/(#이) 뱀 나온거야 뱀이 하나 도 아니 <end>\n",
      "\n"
     ]
    }
   ],
   "source": [
    "for i in range(10):\n",
    "    print(train_df.iloc[i,0])\n",
    "    print(train_df.iloc[i,1])\n",
    "    print()"
   ]
  },
  {
   "cell_type": "code",
   "execution_count": 11,
   "metadata": {},
   "outputs": [
    {
     "name": "stdout",
     "output_type": "stream",
     "text": [
      "파일 분할 저장 완료\n"
     ]
    }
   ],
   "source": [
    "rows_per_file = len(train_df) // 4  # 데이터의 약 1/3씩 저장하기 위해 나눔\n",
    "\n",
    "# 데이터프레임을 분할하고 각각을 저장\n",
    "for i, chunk in enumerate(range(0, len(train_df), rows_per_file)):\n",
    "    # 각 부분을 CSV 파일로 저장\n",
    "    train_df.iloc[chunk:chunk + rows_per_file].to_csv(f'train_df_part{i+1}.csv', index=False)\n",
    "\n",
    "print(\"파일 분할 저장 완료\")"
   ]
  },
  {
   "cell_type": "code",
   "execution_count": 12,
   "metadata": {},
   "outputs": [],
   "source": [
    "valid_df.to_csv('val_df.csv')"
   ]
  }
 ],
 "metadata": {
  "kernelspec": {
   "display_name": "trans",
   "language": "python",
   "name": "trans"
  },
  "language_info": {
   "codemirror_mode": {
    "name": "ipython",
    "version": 3
   },
   "file_extension": ".py",
   "mimetype": "text/x-python",
   "name": "python",
   "nbconvert_exporter": "python",
   "pygments_lexer": "ipython3",
   "version": "3.7.12"
  }
 },
 "nbformat": 4,
 "nbformat_minor": 2
}
